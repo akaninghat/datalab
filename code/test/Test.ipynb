{
 "cells": [
  {
   "cell_type": "code",
   "execution_count": null,
   "metadata": {},
   "outputs": [],
   "source": [
    "data1 = np.loadtxt(\"data1.txt\")\n",
    "\n",
    "plt.title(\"-s 0 -d 0.0005 -N 1000 -f 10 -p 0 -a 1\", fontweight=\"bold\")\n",
    "plt.xlabel(\"x\")\n",
    "plt.ylabel(\"y\")\n",
    "plt.plot(data1[:,0],data1[:,1])\n",
    "plt.show()\n"
   ]
  },
  {
   "cell_type": "code",
   "execution_count": null,
   "metadata": {},
   "outputs": [],
   "source": [
    "data2 = pd.read_csv(\"data2.txt\" ,header = None ,delimiter =\" \")\n",
    "data2 = pd.DataFrame(data2)\n",
    "\n",
    "x2 = data2[0]\n",
    "y2 = data2[1]\n",
    "plt.title(\"-s 1 -d 0.0005 -N 1000 -f 10 -p 0 -a 1\")\n",
    "plt.xlabel(\"x\")\n",
    "plt.ylabel(\"y\")\n",
    "plt.plot(x2,y2)\n",
    "plt.show()"
   ]
  },
  {
   "cell_type": "code",
   "execution_count": null,
   "metadata": {},
   "outputs": [],
   "source": [
    "data3 = pd.read_csv(\"data3.txt\" ,header = None ,delimiter =\" \")\n",
    "data3 = pd.DataFrame(data3)\n",
    "\n",
    "x3 = data3[0]\n",
    "y3 = data3[1]\n",
    "plt.title(\"-s 1 -d 0.0005 -N 1000 -f 10 -p 0 -a 0\")\n",
    "plt.xlabel(\"x\")\n",
    "plt.ylabel(\"y\")\n",
    "plt.plot(x3,y3)\n",
    "plt.show()"
   ]
  },
  {
   "cell_type": "code",
   "execution_count": null,
   "metadata": {},
   "outputs": [],
   "source": [
    "data4 = pd.read_csv(\"data4.txt\" ,header = None ,delimiter =\" \")\n",
    "data4 = pd.DataFrame(data4)\n",
    "x4 = data4[0]\n",
    "y4 = data4[1]\n",
    "plt.plot(x4,y4)\n",
    "plt.show()"
   ]
  },
  {
   "cell_type": "code",
   "execution_count": null,
   "metadata": {},
   "outputs": [],
   "source": []
  },
  {
   "cell_type": "code",
   "execution_count": null,
   "metadata": {},
   "outputs": [],
   "source": []
  },
  {
   "cell_type": "code",
   "execution_count": null,
   "metadata": {},
   "outputs": [],
   "source": []
  },
  {
   "cell_type": "code",
   "execution_count": null,
   "metadata": {},
   "outputs": [],
   "source": []
  }
 ],
 "metadata": {
  "kernelspec": {
   "display_name": "Python 3",
   "language": "python",
   "name": "python3"
  },
  "language_info": {
   "codemirror_mode": {
    "name": "ipython",
    "version": 3
   },
   "file_extension": ".py",
   "mimetype": "text/x-python",
   "name": "python",
   "nbconvert_exporter": "python",
   "pygments_lexer": "ipython3",
   "version": "3.7.4"
  }
 },
 "nbformat": 4,
 "nbformat_minor": 2
}
