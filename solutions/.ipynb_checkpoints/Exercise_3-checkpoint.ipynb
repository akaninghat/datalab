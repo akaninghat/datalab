{
 "cells": [
  {
   "cell_type": "code",
   "execution_count": 1,
   "metadata": {},
   "outputs": [],
   "source": [
    "import pandas as pd\n",
    "import numpy as np\n",
    "import matplotlib.pyplot as plt\n",
    "import os\n",
    "import subprocess"
   ]
  },
  {
   "cell_type": "code",
   "execution_count": 2,
   "metadata": {},
   "outputs": [],
   "source": [
    "exe_dir = \"/home/aswathy/DATA_ANALYSIS/datalab/code\"\n",
    "data_dir = \"/home/aswathy/DATA_ANALYSIS/datalab/solutions/Exercise_3\""
   ]
  },
  {
   "cell_type": "code",
   "execution_count": 3,
   "metadata": {},
   "outputs": [],
   "source": [
    "\"\"\"\n",
    "Usage: ./generate_source  [-h] [-o <file>] [-s <float>] [-d <float>] [-N <int>] [-f <float>] [-p <float>]\n",
    "                          [-a <float>] [-r <int>]\n",
    "  -o, --output=<file>       output file\n",
    "  -s, --sigma=<float>       standard deviation sigma\n",
    "  -d, --deltaT=<float>      delta T betwean measurements\n",
    "  -N, --length=<int>        number of elements\n",
    "  -f, --freq=<float>        frequency\n",
    "  -p, --phase=<float>       phase\n",
    "  -a, --amplitude=<float>   signal amplitude\n",
    "  -r, --random=<int>        if set to 1, generate random signal\n",
    "  -h, --help                print this help and exit\n",
    "\"\"\"      \n",
    "\n",
    "def generate_source(outputFile=None, sigma=0, f=10, A=1, delta_T=None, N=10000, phi=0, r=0):\n",
    "    if delta_T == None : \n",
    "        delta_T = 1/N\n",
    "           \n",
    "    dataPath = os.path.join(data_dir, outputFile)\n",
    "    exe_path = os.path.join(exe_dir, 'generate_source')\n",
    "    cmd_str = f\"{exe_path} -o {dataPath} -s {sigma} -d {delta_T} -N {N} -f {f} -p {phi} -a {A} -r {r}\"\n",
    "    \n",
    "    #print(cmd_str)\n",
    "    \n",
    "    cmd = cmd_str.split(' ')\n",
    "    process = subprocess.Popen(cmd,stdout=subprocess.PIPE)\n",
    "    out, err = process.communicate()\n",
    "    if err:\n",
    "        print('The process raised an error:', err.decode())\n",
    "    if out:\n",
    "        print('The process has an output:', out.decode())\n",
    "\n",
    "    return"
   ]
  },
  {
   "cell_type": "code",
   "execution_count": 17,
   "metadata": {},
   "outputs": [],
   "source": [
    "data_set = {\n",
    "    1: {\n",
    "        'sigma': 0.0,\n",
    "        'A': 1,\n",
    "        'f': 30,\n",
    "        'delta_T': 0.0001,\n",
    "        'filename': \"data_01.csv\",\n",
    "        'title': \"-s 0 -a 1\",\n",
    "    },\n",
    "    2: {\n",
    "        'sigma': 0.5,\n",
    "        'A': 1,\n",
    "        'f': 30,\n",
    "        'delta_T': 0.0001,\n",
    "        'filename': \"data_02.csv\",\n",
    "        'title': \"-s 0.5 -a 1\",\n",
    "    },\n",
    "    3: {\n",
    "        'sigma': 5,\n",
    "        'A': 1,\n",
    "        'f': 30,\n",
    "        'delta_T': 0.0001,\n",
    "        'filename': \"data_03.csv\",\n",
    "        'title': \"-s 5 -a 1\",\n",
    "    },\n",
    "    4: {\n",
    "        'sigma': 10,\n",
    "        'A': 1,\n",
    "        'f': 30,\n",
    "        'delta_T': 0.0001,\n",
    "        'filename': \"data_04.csv\",\n",
    "        'title': \"-s 10 -a 1\",\n",
    "    },\n",
    "    5 : {\n",
    "        'sigma': 10,\n",
    "        'A': 0,\n",
    "        'f': 30,\n",
    "        'delta_T': 0.0001,\n",
    "        'filename': \"data_05.csv\",\n",
    "        'title': \"-s 10 -a 0\",\n",
    "    }\n",
    "}\n",
    "\n",
    "for key, value in data_set.items():\n",
    "    generate_source(value.get('filename'), sigma=value.get('sigma'), A=value.get('A'), f=value.get('f'), delta_T=value.get('delta_T'))\n"
   ]
  },
  {
   "cell_type": "code",
   "execution_count": 5,
   "metadata": {},
   "outputs": [],
   "source": [
    "\"\"\"\n",
    "Usage: ./prober  [-h] [-i <file>] [-o <file>] [-f <float>] [-p <float>] [-t <file>] [-m <int>]\n",
    "  -i, --input=<file>        input file\n",
    "  -o, --output=<file>       output file\n",
    "  -f, --freq=<float>        frequency\n",
    "  -p, --phase=<float>       phase\n",
    "  -h, --help                print this help and exit\n",
    "  -t, --templatebank=<file> template bank file\n",
    "  -m, --method=<int>        select method to analyze signal 1, 2 or 3\n",
    "\"\"\"\n",
    "\n",
    "def prober(inputFile, f=0, outputFile=None, phi=0, template=None, mod=0):\n",
    "    \n",
    "    exe_path = os.path.join(exe_dir, 'prober')\n",
    "    cmd_str = f\"{exe_path} -i {data_dir}/{inputFile} -o {data_dir}/{outputFile} -m {mod}\"\n",
    "    if template:\n",
    "        cmd_str += f\" -t {data_dir}/{template} \"\n",
    "    else:\n",
    "        cmd_str += f\" -f {f} -p {phi}\"\n",
    "        \n",
    "    #print(cmd_str)\n",
    "        \n",
    "    cmd = cmd_str.split(' ')\n",
    "    process = subprocess.Popen(cmd,stdout=subprocess.PIPE)\n",
    "    out, err = process.communicate()\n",
    "    if err:\n",
    "        print('The process raised an error:', err.decode())\n",
    "    #if out:\n",
    "        #print('The process has an output:', out.decode())\n",
    "        \n",
    "    if out:\n",
    "        if template:\n",
    "            print('The process has an output:', out.decode())\n",
    "        else:\n",
    "            with open(f\"{data_dir}/output_S{mod}.txt\", \"w\") as file:\n",
    "                print('The process has an output:', out.decode())\n",
    "                file.write(out.decode())\n",
    "                return f\"output_S{mod}.txt\"\n",
    "    if mod == 3:\n",
    "        if template:\n",
    "            print(cmd_str)\n",
    "        else:\n",
    "            data = np.loadtxt(f\"{data_dir}/{outputFile}\")\n",
    "            with open(f\"{data_dir}/output_S{mod}.txt\", \"w\") as file:\n",
    "                file.write(\"{0: .1f}\".format(data[f][0]) + \" {0:.1f}\".format(data[f][1]) + \" {0:.1f}\".format(data[f][2]))\n",
    "                #file.write(\"{0}\\n\".format(data[f]))\n",
    "                return f\"output_S{mod}.txt\""
   ]
  },
  {
   "cell_type": "code",
   "execution_count": 6,
   "metadata": {},
   "outputs": [],
   "source": [
    "for i in range(1,6):\n",
    "    prober(f\"data_0{i}.csv\", f=10, outputFile=f\"results_{i}_S1.csv\", template=\"temp_bank.csv\", mod=1)"
   ]
  },
  {
   "cell_type": "code",
   "execution_count": 7,
   "metadata": {},
   "outputs": [],
   "source": [
    "for i in range(1,6):\n",
    "    prober(f\"data_0{i}.csv\", f=10, outputFile=f\"results_{i}_S2.csv\", template=\"temp_bank.csv\", mod=2)"
   ]
  },
  {
   "cell_type": "code",
   "execution_count": 8,
   "metadata": {},
   "outputs": [
    {
     "name": "stdout",
     "output_type": "stream",
     "text": [
      "/home/aswathy/DATA_ANALYSIS/datalab/code/prober -i /home/aswathy/DATA_ANALYSIS/datalab/solutions/Exercise_3/data_01.csv -o /home/aswathy/DATA_ANALYSIS/datalab/solutions/Exercise_3/results_1_S3.csv -m 3 -t /home/aswathy/DATA_ANALYSIS/datalab/solutions/Exercise_3/temp_bank.csv \n",
      "/home/aswathy/DATA_ANALYSIS/datalab/code/prober -i /home/aswathy/DATA_ANALYSIS/datalab/solutions/Exercise_3/data_02.csv -o /home/aswathy/DATA_ANALYSIS/datalab/solutions/Exercise_3/results_2_S3.csv -m 3 -t /home/aswathy/DATA_ANALYSIS/datalab/solutions/Exercise_3/temp_bank.csv \n",
      "/home/aswathy/DATA_ANALYSIS/datalab/code/prober -i /home/aswathy/DATA_ANALYSIS/datalab/solutions/Exercise_3/data_03.csv -o /home/aswathy/DATA_ANALYSIS/datalab/solutions/Exercise_3/results_3_S3.csv -m 3 -t /home/aswathy/DATA_ANALYSIS/datalab/solutions/Exercise_3/temp_bank.csv \n",
      "/home/aswathy/DATA_ANALYSIS/datalab/code/prober -i /home/aswathy/DATA_ANALYSIS/datalab/solutions/Exercise_3/data_04.csv -o /home/aswathy/DATA_ANALYSIS/datalab/solutions/Exercise_3/results_4_S3.csv -m 3 -t /home/aswathy/DATA_ANALYSIS/datalab/solutions/Exercise_3/temp_bank.csv \n",
      "/home/aswathy/DATA_ANALYSIS/datalab/code/prober -i /home/aswathy/DATA_ANALYSIS/datalab/solutions/Exercise_3/data_05.csv -o /home/aswathy/DATA_ANALYSIS/datalab/solutions/Exercise_3/results_5_S3.csv -m 3 -t /home/aswathy/DATA_ANALYSIS/datalab/solutions/Exercise_3/temp_bank.csv \n"
     ]
    }
   ],
   "source": [
    "for i in range(1,6):\n",
    "    prober(f\"data_0{i}.csv\", f=10, outputFile=f\"results_{i}_S3.csv\", template=\"temp_bank.csv\", mod=3)"
   ]
  },
  {
   "cell_type": "code",
   "execution_count": 9,
   "metadata": {},
   "outputs": [],
   "source": [
    "def mismatch(iFile, resultsFile, mode, freq, p, nfrq, nphi):\n",
    "    #Create a template bank\n",
    "    if nphi == 0:\n",
    "        frq = np.linspace(0.0, 100.0, nfrq)\n",
    "        with open(f\"{data_dir}/temp_bank_{nfrq}.csv\", \"w\") as file:\n",
    "            for i in range(nfrq):\n",
    "                file.write(\"{0} {1}\\n\".format(frq[i],0))\n",
    "        tbank = f\"temp_bank_{nfrq}.csv\"\n",
    "    else:\n",
    "        frq = np.linspace(0.0, 100.0, nfrq)\n",
    "        ph = np.linspace(0, 2*np.pi, nphi)\n",
    "        with open(f\"{data_dir}/temp_bank_{nfrq}_{nphi}.csv\", \"w\") as file:\n",
    "            for i in range(nfrq):\n",
    "                for j in range(nphi):\n",
    "                    file.write(\"{0} {1}\\n\".format(frq[i], ph[j]))\n",
    "        tbank = f\"temp_bank_{nfrq}_{nphi}.csv\"\n",
    "    \n",
    "    \n",
    "    OFile_1 = prober(inputFile=iFile, f=freq, outputFile=resultsFile, phi=p, mod=mode)\n",
    "    prober(inputFile=iFile, outputFile=resultsFile, template=tbank, mod=mode)\n",
    "    \n",
    "        \n",
    "    if mode == 2:\n",
    "        data1 = np.loadtxt(os.path.join(data_dir, OFile_1))\n",
    "        s_o = data1[2]\n",
    "        print(\"Minimum Value at f: \",s_o)\n",
    "        data2 = np.loadtxt(os.path.join(data_dir, resultsFile))\n",
    "        s = np.where(data2[:,2] == np.min(data2[:,2]))\n",
    "        s_l = data2[:,2][s][0]\n",
    "        print(\"Minimum value at best f: \",s_l)\n",
    "    else:\n",
    "        data1 = np.loadtxt(os.path.join(data_dir, OFile_1))\n",
    "        s_o = data1[2]\n",
    "        print(\"Maximum Value at f : \",s_o)\n",
    "        data2 = np.loadtxt(os.path.join(data_dir, resultsFile))\n",
    "        s = np.where(data2[:,2] == np.max(data2[:,2]))\n",
    "        s_l = data2[:,2][s][0]\n",
    "        print(\"Maximum value at best f: \",s_l)\n",
    "    \n",
    "    M = 1 - s_l/s_o\n",
    "    \n",
    "    print(\"Mismatch: \",M)\n",
    "    \n",
    "    if nphi == 0:\n",
    "        return f\"{nfrq} {M}\"\n",
    "    else:\n",
    "        return f\"{nfrq} {nphi} {M}\""
   ]
  },
  {
   "cell_type": "code",
   "execution_count": 28,
   "metadata": {
    "scrolled": true
   },
   "outputs": [
    {
     "name": "stdout",
     "output_type": "stream",
     "text": [
      "The process has an output: 30 0 0.5\n",
      "\n",
      "Maximum Value at f :  0.5\n",
      "Maximum value at best f:  0.487706\n",
      "Mismatch:  0.024588000000000054\n"
     ]
    },
    {
     "data": {
      "text/plain": [
       "2"
      ]
     },
     "execution_count": 28,
     "metadata": {},
     "output_type": "execute_result"
    }
   ],
   "source": [
    "# a = 1, s = 0, f = 30, p = 0\n",
    "data = mismatch(f\"data_01.csv\", resultsFile=f\"results_1_S1.csv\", mode=1, freq=30, p=0, nfrq=500, nphi=0)\n",
    "os.system(f\"echo '{data}' >> {data_dir}/values_S1.csv\")\n"
   ]
  },
  {
   "cell_type": "code",
   "execution_count": 30,
   "metadata": {},
   "outputs": [
    {
     "data": {
      "text/plain": [
       "Text(0, 0.5, 'mismatch')"
      ]
     },
     "execution_count": 30,
     "metadata": {},
     "output_type": "execute_result"
    },
    {
     "data": {
      "image/png": "[encoded data removed]",
      "text/plain": [
       "<Figure size 432x288 with 1 Axes>"
      ]
     },
     "metadata": {
      "needs_background": "light"
     },
     "output_type": "display_data"
    }
   ],
   "source": [
    "data_values = np.loadtxt(f\"{data_dir}/values_S1.csv\")\n",
    "plt.plot(data_values[:,0],data_values[:,1])\n",
    "plt.xlabel(\"nfrq\")\n",
    "plt.ylabel(\"mismatch\")"
   ]
  },
  {
   "cell_type": "code",
   "execution_count": null,
   "metadata": {},
   "outputs": [],
   "source": []
  }
 ],
 "metadata": {
  "kernelspec": {
   "display_name": "Python 3",
   "language": "python",
   "name": "python3"
  },
  "language_info": {
   "codemirror_mode": {
    "name": "ipython",
    "version": 3
   },
   "file_extension": ".py",
   "mimetype": "text/x-python",
   "name": "python",
   "nbconvert_exporter": "python",
   "pygments_lexer": "ipython3",
   "version": "3.7.4"
  }
 },
 "nbformat": 4,
 "nbformat_minor": 2
}
