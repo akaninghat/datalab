{
 "cells": [
  {
   "cell_type": "code",
   "execution_count": 1,
   "metadata": {},
   "outputs": [],
   "source": [
    "import pandas as pd\n",
    "import numpy as np\n",
    "import matplotlib.pyplot as plt\n",
    "import os\n",
    "import subprocess"
   ]
  },
  {
   "cell_type": "code",
   "execution_count": 2,
   "metadata": {},
   "outputs": [],
   "source": [
    "exe_dir = \"/home/aswathy/DATA_ANALYSIS/datalab/code\"\n",
    "output_dir = \"/home/aswathy/DATA_ANALYSIS/datalab/solutions\""
   ]
  },
  {
   "cell_type": "code",
   "execution_count": 3,
   "metadata": {},
   "outputs": [],
   "source": [
    "\"\"\"\n",
    "Usage: ./generate_source  [-h] [-o <file>] [-s <float>] [-d <float>] [-N <int>] [-f <float>] [-p <float>]\n",
    "                          [-a <float>] [-r <int>]\n",
    "  -o, --output=<file>       output file\n",
    "  -s, --sigma=<float>       standard deviation sigma\n",
    "  -d, --deltaT=<float>      delta T betwean measurements\n",
    "  -N, --length=<int>        number of elements\n",
    "  -f, --freq=<float>        frequency\n",
    "  -p, --phase=<float>       phase\n",
    "  -a, --amplitude=<float>   signal amplitude\n",
    "  -r, --random=<int>        if set to 1, generate random signal\n",
    "  -h, --help                print this help and exit\n",
    "\"\"\"      \n",
    "\n",
    "def generate_source(outputFile=None, sigma=0, f=10, A=1, delta_T=None, N=10000, phi=0, r=0):\n",
    "    if delta_T == None : \n",
    "        delta_T = 1/N\n",
    "           \n",
    "    outputPath = os.path.join(output_dir, outputFile) # output_dir + \"/\" + \"myfilename.csv\"\n",
    "    exe_path = os.path.join(exe_dir, 'generate_source')\n",
    "    cmd_str = f\"{exe_path} -o {outputFile} -s {sigma} -d {delta_T} -N {N} -f {f} -p {phi} -a {A} -r {r}\"\n",
    "    \n",
    "    print(cmd_str)\n",
    "    \n",
    "    cmd = cmd_str.split(' ')\n",
    "    process = subprocess.Popen(cmd,stdout=subprocess.PIPE)\n",
    "    out, err = process.communicate()\n",
    "    if err:\n",
    "        print('The process raised an error:', err.decode())\n",
    "    if out:\n",
    "        print('The process has an output:', out.decode())\n",
    "\n",
    "    return"
   ]
  },
  {
   "cell_type": "code",
   "execution_count": null,
   "metadata": {},
   "outputs": [],
   "source": [
    "data_set = {\n",
    "    1: {\n",
    "        'sigma': 0.0,\n",
    "        'A': 1,\n",
    "        'f': 10,\n",
    "        'delta_T': 0.0001,\n",
    "        'filename': \"data_01.csv\",\n",
    "        'title': \"-s 0 -a 1\",\n",
    "    },\n",
    "    2: {\n",
    "        'sigma': 0.5,\n",
    "        'A': 1,\n",
    "        'f': 10,\n",
    "        'delta_T': 0.0001,\n",
    "        'filename': \"data_02.csv\",\n",
    "        'title': \"-s 0.5 -a 1\",\n",
    "    },\n",
    "    3: {\n",
    "        'sigma': 5,\n",
    "        'A': 1,\n",
    "        'f': 10,\n",
    "        'delta_T': 0.0001,\n",
    "        'filename': \"data_03.csv\",\n",
    "        'title': \"-s 5 -a 1\",\n",
    "    },\n",
    "    4: {\n",
    "        'sigma': 10,\n",
    "        'A': 1,\n",
    "        'f': 10,\n",
    "        'delta_T': 0.0001,\n",
    "        'filename': \"data_04.csv\",\n",
    "        'title': \"-s 10 -a 1\",\n",
    "    },\n",
    "    5 : {\n",
    "        'sigma': 10,\n",
    "        'A': 0,\n",
    "        'f': 10,\n",
    "        'delta_T': 0.0001,\n",
    "        'filename': \"data_05.csv\",\n",
    "        'title': \"-s 10 -a 0\",\n",
    "    }\n",
    "}\n",
    "\n",
    "for key, value in data_set.items():\n",
    "    generate_source(value.get('filename'), sigma=value.get('sigma'), A=value.get('A'), f=value.get('f'), delta_T=value.get('delta_T'))\n"
   ]
  },
  {
   "cell_type": "code",
   "execution_count": null,
   "metadata": {},
   "outputs": [],
   "source": [
    "\"\"\"\n",
    "Usage: ./prober  [-h] [-i <file>] [-o <file>] [-f <float>] [-p <float>] [-t <file>] [-m <int>]\n",
    "  -i, --input=<file>        input file\n",
    "  -o, --output=<file>       output file\n",
    "  -f, --freq=<float>        frequency\n",
    "  -p, --phase=<float>       phase\n",
    "  -h, --help                print this help and exit\n",
    "  -t, --templatebank=<file> template bank file\n",
    "  -m, --method=<int>        select method to analyze signal 1, 2 or 3\n",
    "\"\"\"\n",
    "\n",
    "def prober(inputFile, f=0, outputFile=None, phi=0, template=None, mod=0):\n",
    "    \n",
    "    exe_path = os.path.join(exe_dir, 'prober')\n",
    "    cmd_str = f\"{exe_path} -i {output_dir}/{inputFile} -o {output_dir}/{outputFile} -m {mod}\"\n",
    "    if template:\n",
    "        cmd_str += f\" -t {output_dir}/{template} \"\n",
    "    else:\n",
    "        cmd_str += f\" -f {f} -p {phi}\"\n",
    "        \n",
    "    cmd = cmd_str.split(' ')\n",
    "    process = subprocess.Popen(cmd,stdout=subprocess.PIPE)\n",
    "    out, err = process.communicate()\n",
    "    if err:\n",
    "        print('The process raised an error:', err.decode())\n",
    "    if out:\n",
    "        print('The process has an output:', out.decode())\n",
    "    \n",
    "    return"
   ]
  },
  {
   "cell_type": "code",
   "execution_count": null,
   "metadata": {},
   "outputs": [],
   "source": [
    "n = 50\n",
    "freq = np.linspace(0.01, 100.0, n)\n",
    "with open(\"temp_bank\", \"w\") as file:\n",
    "    for i in range(n):\n",
    "        file.write(\"{0} {1}\\n\".format(freq[i],0))"
   ]
  },
  {
   "cell_type": "code",
   "execution_count": null,
   "metadata": {},
   "outputs": [],
   "source": [
    "for i in range(1,6):\n",
    "    prober(f\"data_0{i}.csv\", f=10, outputFile=f\"results_{i}\", template=\"temp_bank\", mod=1)"
   ]
  },
  {
   "cell_type": "code",
   "execution_count": null,
   "metadata": {},
   "outputs": [],
   "source": []
  },
  {
   "cell_type": "code",
   "execution_count": null,
   "metadata": {},
   "outputs": [],
   "source": []
  },
  {
   "cell_type": "code",
   "execution_count": null,
   "metadata": {},
   "outputs": [],
   "source": []
  },
  {
   "cell_type": "code",
   "execution_count": null,
   "metadata": {},
   "outputs": [],
   "source": []
  },
  {
   "cell_type": "code",
   "execution_count": null,
   "metadata": {},
   "outputs": [],
   "source": []
  },
  {
   "cell_type": "code",
   "execution_count": null,
   "metadata": {},
   "outputs": [],
   "source": []
  }
 ],
 "metadata": {
  "kernelspec": {
   "display_name": "Python 3",
   "language": "python",
   "name": "python3"
  },
  "language_info": {
   "codemirror_mode": {
    "name": "ipython",
    "version": 3
   },
   "file_extension": ".py",
   "mimetype": "text/x-python",
   "name": "python",
   "nbconvert_exporter": "python",
   "pygments_lexer": "ipython3",
   "version": "3.7.4"
  }
 },
 "nbformat": 4,
 "nbformat_minor": 2
}
